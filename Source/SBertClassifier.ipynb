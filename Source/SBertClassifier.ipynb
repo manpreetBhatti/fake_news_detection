{
  "nbformat": 4,
  "nbformat_minor": 0,
  "metadata": {
    "colab": {
      "name": "SBertClassifier.ipynb",
      "provenance": [],
      "collapsed_sections": []
    },
    "kernelspec": {
      "name": "python3",
      "display_name": "Python 3"
    },
    "language_info": {
      "name": "python"
    },
    "accelerator": "GPU"
  },
  "cells": [
    {
      "cell_type": "markdown",
      "source": [
        ""
      ],
      "metadata": {
        "id": "xcD50kMtCWu3"
      }
    },
    {
      "cell_type": "markdown",
      "source": [
        "# Installation and Imports"
      ],
      "metadata": {
        "id": "wFp_3u_FCZkT"
      }
    },
    {
      "cell_type": "code",
      "execution_count": null,
      "metadata": {
        "colab": {
          "base_uri": "https://localhost:8080/"
        },
        "id": "GtNAEjjdCJ4_",
        "outputId": "82c1135c-3c41-4c4e-bcb7-696361712eac"
      },
      "outputs": [
        {
          "output_type": "stream",
          "name": "stdout",
          "text": [
            "Collecting sentence-transformers\n",
            "  Downloading sentence-transformers-2.1.0.tar.gz (78 kB)\n",
            "\u001b[K     |████████████████████████████████| 78 kB 2.9 MB/s \n",
            "\u001b[?25hCollecting transformers<5.0.0,>=4.6.0\n",
            "  Downloading transformers-4.16.2-py3-none-any.whl (3.5 MB)\n",
            "\u001b[K     |████████████████████████████████| 3.5 MB 25.5 MB/s \n",
            "\u001b[?25hCollecting tokenizers>=0.10.3\n",
            "  Downloading tokenizers-0.11.4-cp37-cp37m-manylinux_2_12_x86_64.manylinux2010_x86_64.whl (6.8 MB)\n",
            "\u001b[K     |████████████████████████████████| 6.8 MB 26.5 MB/s \n",
            "\u001b[?25hRequirement already satisfied: tqdm in /usr/local/lib/python3.7/dist-packages (from sentence-transformers) (4.62.3)\n",
            "Requirement already satisfied: torch>=1.6.0 in /usr/local/lib/python3.7/dist-packages (from sentence-transformers) (1.10.0+cu111)\n",
            "Requirement already satisfied: torchvision in /usr/local/lib/python3.7/dist-packages (from sentence-transformers) (0.11.1+cu111)\n",
            "Requirement already satisfied: numpy in /usr/local/lib/python3.7/dist-packages (from sentence-transformers) (1.19.5)\n",
            "Requirement already satisfied: scikit-learn in /usr/local/lib/python3.7/dist-packages (from sentence-transformers) (1.0.2)\n",
            "Requirement already satisfied: scipy in /usr/local/lib/python3.7/dist-packages (from sentence-transformers) (1.4.1)\n",
            "Requirement already satisfied: nltk in /usr/local/lib/python3.7/dist-packages (from sentence-transformers) (3.2.5)\n",
            "Collecting sentencepiece\n",
            "  Downloading sentencepiece-0.1.96-cp37-cp37m-manylinux_2_17_x86_64.manylinux2014_x86_64.whl (1.2 MB)\n",
            "\u001b[K     |████████████████████████████████| 1.2 MB 38.6 MB/s \n",
            "\u001b[?25hCollecting huggingface-hub\n",
            "  Downloading huggingface_hub-0.4.0-py3-none-any.whl (67 kB)\n",
            "\u001b[K     |████████████████████████████████| 67 kB 2.6 MB/s \n",
            "\u001b[?25hRequirement already satisfied: typing-extensions in /usr/local/lib/python3.7/dist-packages (from torch>=1.6.0->sentence-transformers) (3.10.0.2)\n",
            "Requirement already satisfied: packaging>=20.0 in /usr/local/lib/python3.7/dist-packages (from transformers<5.0.0,>=4.6.0->sentence-transformers) (21.3)\n",
            "Collecting sacremoses\n",
            "  Downloading sacremoses-0.0.47-py2.py3-none-any.whl (895 kB)\n",
            "\u001b[K     |████████████████████████████████| 895 kB 40.8 MB/s \n",
            "\u001b[?25hRequirement already satisfied: requests in /usr/local/lib/python3.7/dist-packages (from transformers<5.0.0,>=4.6.0->sentence-transformers) (2.23.0)\n",
            "Collecting pyyaml>=5.1\n",
            "  Downloading PyYAML-6.0-cp37-cp37m-manylinux_2_5_x86_64.manylinux1_x86_64.manylinux_2_12_x86_64.manylinux2010_x86_64.whl (596 kB)\n",
            "\u001b[K     |████████████████████████████████| 596 kB 33.3 MB/s \n",
            "\u001b[?25hRequirement already satisfied: importlib-metadata in /usr/local/lib/python3.7/dist-packages (from transformers<5.0.0,>=4.6.0->sentence-transformers) (4.10.1)\n",
            "Requirement already satisfied: filelock in /usr/local/lib/python3.7/dist-packages (from transformers<5.0.0,>=4.6.0->sentence-transformers) (3.4.2)\n",
            "Requirement already satisfied: regex!=2019.12.17 in /usr/local/lib/python3.7/dist-packages (from transformers<5.0.0,>=4.6.0->sentence-transformers) (2019.12.20)\n",
            "Requirement already satisfied: pyparsing!=3.0.5,>=2.0.2 in /usr/local/lib/python3.7/dist-packages (from packaging>=20.0->transformers<5.0.0,>=4.6.0->sentence-transformers) (3.0.7)\n",
            "Requirement already satisfied: zipp>=0.5 in /usr/local/lib/python3.7/dist-packages (from importlib-metadata->transformers<5.0.0,>=4.6.0->sentence-transformers) (3.7.0)\n",
            "Requirement already satisfied: six in /usr/local/lib/python3.7/dist-packages (from nltk->sentence-transformers) (1.15.0)\n",
            "Requirement already satisfied: urllib3!=1.25.0,!=1.25.1,<1.26,>=1.21.1 in /usr/local/lib/python3.7/dist-packages (from requests->transformers<5.0.0,>=4.6.0->sentence-transformers) (1.24.3)\n",
            "Requirement already satisfied: certifi>=2017.4.17 in /usr/local/lib/python3.7/dist-packages (from requests->transformers<5.0.0,>=4.6.0->sentence-transformers) (2021.10.8)\n",
            "Requirement already satisfied: idna<3,>=2.5 in /usr/local/lib/python3.7/dist-packages (from requests->transformers<5.0.0,>=4.6.0->sentence-transformers) (2.10)\n",
            "Requirement already satisfied: chardet<4,>=3.0.2 in /usr/local/lib/python3.7/dist-packages (from requests->transformers<5.0.0,>=4.6.0->sentence-transformers) (3.0.4)\n",
            "Requirement already satisfied: joblib in /usr/local/lib/python3.7/dist-packages (from sacremoses->transformers<5.0.0,>=4.6.0->sentence-transformers) (1.1.0)\n",
            "Requirement already satisfied: click in /usr/local/lib/python3.7/dist-packages (from sacremoses->transformers<5.0.0,>=4.6.0->sentence-transformers) (7.1.2)\n",
            "Requirement already satisfied: threadpoolctl>=2.0.0 in /usr/local/lib/python3.7/dist-packages (from scikit-learn->sentence-transformers) (3.1.0)\n",
            "Requirement already satisfied: pillow!=8.3.0,>=5.3.0 in /usr/local/lib/python3.7/dist-packages (from torchvision->sentence-transformers) (7.1.2)\n",
            "Building wheels for collected packages: sentence-transformers\n",
            "  Building wheel for sentence-transformers (setup.py) ... \u001b[?25l\u001b[?25hdone\n",
            "  Created wheel for sentence-transformers: filename=sentence_transformers-2.1.0-py3-none-any.whl size=120999 sha256=92dfd94cea3f5d78c984cc6ea3dd169f2f8dbd3c57007096a7ff9ff0b89ac7a7\n",
            "  Stored in directory: /root/.cache/pip/wheels/90/f0/bb/ed1add84da70092ea526466eadc2bfb197c4bcb8d4fa5f7bad\n",
            "Successfully built sentence-transformers\n",
            "Installing collected packages: pyyaml, tokenizers, sacremoses, huggingface-hub, transformers, sentencepiece, sentence-transformers\n",
            "  Attempting uninstall: pyyaml\n",
            "    Found existing installation: PyYAML 3.13\n",
            "    Uninstalling PyYAML-3.13:\n",
            "      Successfully uninstalled PyYAML-3.13\n",
            "Successfully installed huggingface-hub-0.4.0 pyyaml-6.0 sacremoses-0.0.47 sentence-transformers-2.1.0 sentencepiece-0.1.96 tokenizers-0.11.4 transformers-4.16.2\n"
          ]
        }
      ],
      "source": [
        "pip install -U sentence-transformers\n"
      ]
    },
    {
      "cell_type": "code",
      "source": [
        "from torch.utils.data import DataLoader\n",
        "import math\n",
        "import logging\n",
        "from datetime import datetime\n",
        "import pandas as pd\n",
        "import matplotlib.pyplot as plt\n",
        "import numpy as np\n",
        "import nltk, re, string, collections\n",
        "from nltk.util import ngrams\n",
        "import re\n",
        "import unicodedata\n",
        "import nltk\n",
        "from nltk.corpus import stopwords\n",
        "import gensim\n",
        "from tqdm import tqdm\n",
        "tqdm.pandas(desc=\"progress-bar\")\n",
        "import sklearn\n",
        "from sklearn.model_selection import train_test_split\n",
        "import os\n",
        "import gzip\n",
        "import csv\n",
        "import random\n",
        "import keras"
      ],
      "metadata": {
        "id": "7e5JbPBmDt68"
      },
      "execution_count": null,
      "outputs": []
    },
    {
      "cell_type": "code",
      "source": [
        "nltk.download('stopwords')\n",
        "nltk.download('punkt')\n",
        "nltk.download('wordnet')"
      ],
      "metadata": {
        "colab": {
          "base_uri": "https://localhost:8080/"
        },
        "id": "YYG6NPFBIzly",
        "outputId": "e8508a3c-7440-44d0-df6a-5ff269389ae4"
      },
      "execution_count": null,
      "outputs": [
        {
          "output_type": "stream",
          "name": "stdout",
          "text": [
            "[nltk_data] Downloading package stopwords to /root/nltk_data...\n",
            "[nltk_data]   Unzipping corpora/stopwords.zip.\n",
            "[nltk_data] Downloading package punkt to /root/nltk_data...\n",
            "[nltk_data]   Unzipping tokenizers/punkt.zip.\n",
            "[nltk_data] Downloading package wordnet to /root/nltk_data...\n",
            "[nltk_data]   Unzipping corpora/wordnet.zip.\n"
          ]
        },
        {
          "output_type": "execute_result",
          "data": {
            "text/plain": [
              "True"
            ]
          },
          "metadata": {},
          "execution_count": 3
        }
      ]
    },
    {
      "cell_type": "markdown",
      "source": [
        "# Dataset Load"
      ],
      "metadata": {
        "id": "0KtfhAOZECz1"
      }
    },
    {
      "cell_type": "markdown",
      "source": [
        "Loading the CSV"
      ],
      "metadata": {
        "id": "I3vTA1bmEVkx"
      }
    },
    {
      "cell_type": "code",
      "source": [
        "fake = pd.read_csv('./Fake.csv')\n",
        "real = pd.read_csv('./Real.csv')"
      ],
      "metadata": {
        "id": "ZNi7QqJyEShu"
      },
      "execution_count": null,
      "outputs": []
    },
    {
      "cell_type": "code",
      "source": [
        "fake['Target']=0\n",
        "real['Target']=1"
      ],
      "metadata": {
        "id": "WNNZVQL8Eaq2"
      },
      "execution_count": null,
      "outputs": []
    },
    {
      "cell_type": "code",
      "source": [
        "frames = [fake, real]\n",
        "\n",
        "df = pd.concat(frames)"
      ],
      "metadata": {
        "id": "kMOYA8QwEcc6"
      },
      "execution_count": null,
      "outputs": []
    },
    {
      "cell_type": "code",
      "source": [
        "df = df.sample(frac=1).reset_index(drop=True)"
      ],
      "metadata": {
        "id": "mYvifGbuEe8U"
      },
      "execution_count": null,
      "outputs": []
    },
    {
      "cell_type": "code",
      "source": [
        "df_=df.copy()\n",
        "df_=df_.sort_values(by=['date'])\n",
        "df_=df_.reset_index(drop=True)\n"
      ],
      "metadata": {
        "id": "bzsnzFm9EhfG"
      },
      "execution_count": null,
      "outputs": []
    },
    {
      "cell_type": "code",
      "source": [
        "df_['news']=df_['subject']+' '+df_['title']+' '+df_['text']\n",
        "df_['news'] = df_.apply(lambda x: x['news'].lower(),axis=1)\n",
        "df_[\"news\"] = df_['news'].str.replace('[^\\w\\s]','')\n",
        "all_news=pd.DataFrame(pd.Series(' '.join(df_['news']).split()).value_counts())\n",
        "allnews1=all_news.head(30)"
      ],
      "metadata": {
        "id": "75KVregoEh91",
        "colab": {
          "base_uri": "https://localhost:8080/"
        },
        "outputId": "1e6fa2b5-f2e5-4573-feb5-4d1c798d5b4c"
      },
      "execution_count": null,
      "outputs": [
        {
          "output_type": "stream",
          "name": "stderr",
          "text": [
            "/usr/local/lib/python3.7/dist-packages/ipykernel_launcher.py:3: FutureWarning: The default value of regex will change from True to False in a future version.\n",
            "  This is separate from the ipykernel package so we can avoid doing imports until\n"
          ]
        }
      ]
    },
    {
      "cell_type": "code",
      "source": [
        "from sklearn.model_selection import train_test_split\n",
        "\n",
        "\n",
        "X_train, X_test, y_train, y_test = train_test_split(df_['news'], \n",
        "                                                    df_['Target'], \n",
        "                                                    random_state=0)"
      ],
      "metadata": {
        "id": "T6UTWF2I7qH1"
      },
      "execution_count": null,
      "outputs": []
    },
    {
      "cell_type": "code",
      "source": [
        "X_train"
      ],
      "metadata": {
        "colab": {
          "base_uri": "https://localhost:8080/"
        },
        "id": "iDCpPAWv9f3c",
        "outputId": "a9ee98f5-57ba-4ef9-d402-f690c40b2226"
      },
      "execution_count": null,
      "outputs": [
        {
          "output_type": "execute_result",
          "data": {
            "text/plain": [
              "13637    politics brilliant newt gingrich heres why tru...\n",
              "42421    worldnews its not over yet merkel warns suppor...\n",
              "37916    worldnews turkish court releases eight rights ...\n",
              "3321     leftnews epic news conference about milwaukee ...\n",
              "2345     news  white house staffer admits this ss hard ...\n",
              "                               ...                        \n",
              "30403    worldnews militants cross from afghanistan kil...\n",
              "21243    news  greedy trump cuts takes housing money aw...\n",
              "42613    worldnews banks wont be allowed to do business...\n",
              "43567    politicsnews white house calls senate override...\n",
              "2732     middleeast members ep 5  drive by wire taxi to...\n",
              "Name: news, Length: 33673, dtype: object"
            ]
          },
          "metadata": {},
          "execution_count": 17
        }
      ]
    },
    {
      "cell_type": "code",
      "source": [
        "np.array(X_train)"
      ],
      "metadata": {
        "colab": {
          "base_uri": "https://localhost:8080/"
        },
        "id": "kRyxLNcJ99th",
        "outputId": "85261643-7a88-47ac-c17e-84c1630cd077"
      },
      "execution_count": null,
      "outputs": [
        {
          "output_type": "execute_result",
          "data": {
            "text/plain": [
              "array(['politics brilliant newt gingrich heres why trump should not trust intel community right now video wouldn t you know that the cia director had words for trump today brennan has some nerve  cautioning  presidentelect trumpwashington reuters   cia director john brennan on sunday had a stern parting message for republican donald trump days before he assumes the us presidency cautioning him against loosening sanctions on russia and warning him to watch what he says',\n",
              "       'worldnews its not over yet merkel warns supporters before vote hamburg reuters  returning to her birthplace chancellor angela merkel urged supporters to mobilize undecided voters before sunday s election telling them not to take her conservatives  solid lead in opinion polls for granted surveys show many voters are still undecided and with the election likely to return a fractured parliament she wants to maximize support to bolster her position in coalition negotiations  what i ve heard in the last days is unbelievable  that everything is already decided  the 63yearold told a crowd of several hundred packed into the fish auction hall in hamburg  it is not every vote counts  noting that the centerleft social democrats spd her closest rivals have not ruled out a leftwing coalition with the left party and the environmentalist greens  a tieup untested at national level  merkel added  we live in turbulent times we can t afford any experiments    in these times we need stability and security and a clear path both at home and abroad  she said before merkel spoke in hamburg a band pumped up the crowd belting out  celebration  by kool  the gang and bryan adams   summer of  69  one or two greying supporters stood up and danced spd leader martin schulz told broadcaster rtl he believed there could still be a lastminute swing in his party s favor  the experience of all elections national or international show that the number of undecided people is growing more and more  schulz said  everything is still possible  a win for him would be against the run of the opinion polls on tuesday a weekly survey conducted by forsa showed support for merkel s cducsu bloc  known as the  union   at 36 percent its lowest since april but still far ahead of the spd on 23 percent attention in germany is largely turning to who merkel will govern with after the election rather than whether she will stay in power latest surveys suggest that only another grand coalition of merkel s conservatives with the spd or a nationwide untested threeway  jamaica  alliance of the conservatives fdp and greens would have a stable majority a coalition involving the fdp could limit her room for maneuver on pressing ahead with euro zone reform without detailing how she wanted to develop the eu merkel delivered an impassioned defense of the european project saying she regretted britons  vote to leave the bloc  i could stand here and talk for hours about how arduous europe often is  she said before adding  it always is worth standing up for europe even just because it gives us peace and freedom  ',\n",
              "       'worldnews turkish court releases eight rights activists on bail in terrorism trial istanbul reuters  a turkish court on wednesday ordered the release on bail of eight human rights activists including the director of the local branch of amnesty international pending a verdict in their trial on terrorism charges the case against the activists who number 11 in total and who face up to 15 years in prison if found guilty has become a flashpoint in turkey s tense relations with europe and heightened concern that an important nato member is sliding further towards authoritarianism under president tayyip erdogan among those ordered released were idil eser the director of amnesty in turkey as well as peter steudtner a german national and ali gharavi a swede under the terms of their release steudtner and gharavi are not required to remain in turkey before the next court date on nov 22 two other activists were released on bail prior to the start of wednesday s trial another amnesty s local chairman is still being held in the coastal province of izmir where he faces charges in a separate case  i think we re all more than relieved  a tearful steudtner told reporters after he walked out of the silivri prison outside of istanbul a few hours later  we are really grateful for everyone who supported us legally and diplomatically  the case had brought widespread condemnation from rights groups some western governments and on social media prominent activists such as edward snowden almost all of the eleven were detained in july after participating in a workshop on digital security held on an island off the coast of istanbul the prosecutor has alleged a range of charges including helping the kurdistan workers party pkk and the network of usbased cleric fethullah gulen accused by ankara of engineering last year s coup attempt  it is a happy development that our friends are released but this case should have never been brought  said one of the defense lawyers erdal dogan  we need a state of law and we need the support of our citizens      germany which has seen a steady deterioration in ties with turkey over the case and other rows said it welcomed the decision even though it remained concerned about ankara s record on rights  that is an encouraging signal a first step  foreign minister sigmar gabriel said in a statement adding that many germans remained imprisoned in turkey for no clear reason  eser the local amnesty director had earlier told the court that she had been arrested for doing her job    i don t understand how i can be associated with three different terrorist organizations by having attended a workshop  she said  i don t have anything to regret i just did my work as a human rights defender  the prosecutor has cited amnesty s links to jailed hunger strikers and alleged that some of the defendants had contact with people who had downloaded the encrypted messaging app used by the plotters of last year s failed coup another accused ozlem dalkiran told the court  i have no idea why we re here    i dedicated my life to truth human rights and justice now i am here being charged with membership in a terrorist organization  said dalkiran a member of the turkish arm of the citizens  assembly rights organization authorities have jailed more than 50000 people pending trial in a crackdown following the failed military coup erdogan says the purges across society are necessary to maintain stability in a key nato country bordering iran iraq and syria european allies fear he is using the investigations to check opposition and undermine the judiciary the case has worsened turkey s already fraught relations with the european union shortly after the arrests germany said it was reviewing turkey s applications to buy weaponry from germany a cabinet minister in berlin compared ankara s behavior to that of the former communist east germany german chancellor angela merkel has said turkey s 12yearold attempt to join the european union should be halted although ankara has said it remains determined to press on with its accession process ',\n",
              "       ...,\n",
              "       'worldnews banks wont be allowed to do business with both us and north korea mnuchin new york reuters  us treasury secretary steven mnuchin said on thursday that banks doing business in north korea would not be allowed to also operate in the united states under a new sanctions order aimed at thwarting pyongyang s nuclear and missiles program  no bank in any country should be used to facilitate kim jong un s destructive behavior  mnuchin told reporters referring to north korea s leader  foreign financial institutions are now on notice that going forward they can choose to do business with the united states or with north korea but not both  mnuchin said any sanctions issued under the new executive order signed by us president donald trump on thursday would be forwardlooking and not target past behavior ',\n",
              "       'politicsnews white house calls senate override of veto of september 11 bill embarrassing aboard air force one reuters  the white house on wednesday slammed the senates nearly unanimous vote to reject president barack obamas veto of legislation allowing relatives of the victims of the sept 11 2001 attacks to sue saudi arabias government this is the single most embarrassing thing this united states senate has done possibly since 1983 white house spokesman josh earnest told reporters in a briefing referring to the last time when the chamber so overwhelmingly overrode a presidents veto  earnest said some lawmakers had only recently been informed about potential drawbacks to approving the legislation for those senators to then move forward in overriding the presidents veto that would prevent those negative consequences is an abdication of their basic responsibilities as elected representatives of the american people he said ',\n",
              "       'middleeast members ep 5  drive by wire taxi to the un with patrick and matt lee  members can join host patrick henningsen and guest matt lee from inner city press for an unusual evening commute another  drive by wire  shown in full here at 21wiretv episode 5   this special episode of drive by wire takes place in a unique location   in the back of a new york city yellow cab with 21wire s patrick henningsen and special guest from the united nation press corp independent correspondent matt lee from inner city press who shares some behind the scenes stories from the un tales of institutional corruption and diplomatic avarice   all hidden in plain sight watch this episode heresupport our work by subscribing  becoming a member 21wiretv'],\n",
              "      dtype=object)"
            ]
          },
          "metadata": {},
          "execution_count": 18
        }
      ]
    },
    {
      "cell_type": "code",
      "source": [
        "import json\n",
        "from sentence_transformers import SentenceTransformer, CrossEncoder, util\n",
        "import gzip\n",
        "import os\n",
        "import torch\n",
        "\n",
        "if not torch.cuda.is_available():\n",
        "    print(\"Warning: No GPU found. Please add GPU to your notebook\")\n",
        "\n",
        "\n",
        "model = SentenceTransformer('all-MiniLM-L6-v2')\n",
        "\n",
        "embeddings_train = model.encode(np.array(X_train))\n",
        "\n",
        "embeddings_test = model.encode(np.array(X_test))"
      ],
      "metadata": {
        "id": "q0zUZprX3-1V"
      },
      "execution_count": null,
      "outputs": []
    },
    {
      "cell_type": "code",
      "source": [
        "import tensorflow\n",
        "from tensorflow.keras.datasets import mnist\n",
        "from tensorflow.keras.models import Sequential\n",
        "from tensorflow.keras.layers import Dense\n",
        "from tensorflow.keras.utils import to_categorical\n",
        "\n",
        "feature_vector_length = 384\n",
        "num_classes = 2\n",
        "\n",
        "input_shape = (feature_vector_length,)\n",
        "\n",
        "Y_train = to_categorical(y_train, num_classes)\n",
        "Y_test = to_categorical(y_test, num_classes)\n",
        "\n",
        "model = Sequential()\n",
        "model.add(Dense(350, input_shape=input_shape, activation='relu'))\n",
        "model.add(Dense(50, activation='relu'))\n",
        "model.add(Dense(num_classes, activation='sigmoid'))"
      ],
      "metadata": {
        "id": "CT55dAK-Gdm6"
      },
      "execution_count": null,
      "outputs": []
    },
    {
      "cell_type": "code",
      "source": [
        "model.compile(loss='categorical_crossentropy', optimizer='adam', metrics=['accuracy'])\n",
        "model.fit(embeddings_train, Y_train, epochs=10, batch_size=250, verbose=1, validation_split=0.2)"
      ],
      "metadata": {
        "colab": {
          "base_uri": "https://localhost:8080/"
        },
        "id": "s1S6E68nIw6F",
        "outputId": "53223e79-ecd1-436f-a3a3-6f037351aa30"
      },
      "execution_count": null,
      "outputs": [
        {
          "output_type": "stream",
          "name": "stdout",
          "text": [
            "Epoch 1/10\n",
            "108/108 [==============================] - 3s 8ms/step - loss: 0.2374 - accuracy: 0.9108 - val_loss: 0.1287 - val_accuracy: 0.9512\n",
            "Epoch 2/10\n",
            "108/108 [==============================] - 1s 5ms/step - loss: 0.1157 - accuracy: 0.9549 - val_loss: 0.1029 - val_accuracy: 0.9605\n",
            "Epoch 3/10\n",
            "108/108 [==============================] - 1s 5ms/step - loss: 0.0917 - accuracy: 0.9660 - val_loss: 0.0927 - val_accuracy: 0.9627\n",
            "Epoch 4/10\n",
            "108/108 [==============================] - 1s 6ms/step - loss: 0.0738 - accuracy: 0.9739 - val_loss: 0.0919 - val_accuracy: 0.9647\n",
            "Epoch 5/10\n",
            "108/108 [==============================] - 1s 5ms/step - loss: 0.0619 - accuracy: 0.9778 - val_loss: 0.0795 - val_accuracy: 0.9722\n",
            "Epoch 6/10\n",
            "108/108 [==============================] - 1s 5ms/step - loss: 0.0436 - accuracy: 0.9856 - val_loss: 0.0752 - val_accuracy: 0.9743\n",
            "Epoch 7/10\n",
            "108/108 [==============================] - 1s 5ms/step - loss: 0.0358 - accuracy: 0.9881 - val_loss: 0.0784 - val_accuracy: 0.9746\n",
            "Epoch 8/10\n",
            "108/108 [==============================] - 1s 6ms/step - loss: 0.0263 - accuracy: 0.9916 - val_loss: 0.0787 - val_accuracy: 0.9734\n",
            "Epoch 9/10\n",
            "108/108 [==============================] - 1s 5ms/step - loss: 0.0166 - accuracy: 0.9958 - val_loss: 0.0764 - val_accuracy: 0.9765\n",
            "Epoch 10/10\n",
            "108/108 [==============================] - 1s 5ms/step - loss: 0.0118 - accuracy: 0.9974 - val_loss: 0.0855 - val_accuracy: 0.9727\n"
          ]
        },
        {
          "output_type": "execute_result",
          "data": {
            "text/plain": [
              "<keras.callbacks.History at 0x7efa52a61a50>"
            ]
          },
          "metadata": {},
          "execution_count": 41
        }
      ]
    },
    {
      "cell_type": "code",
      "source": [
        "test_results = model.evaluate(embeddings_test, Y_test, verbose=1)"
      ],
      "metadata": {
        "colab": {
          "base_uri": "https://localhost:8080/"
        },
        "id": "O_84ZBoJI0oL",
        "outputId": "318efaff-e57e-4e9e-e7a5-48c130368277"
      },
      "execution_count": null,
      "outputs": [
        {
          "output_type": "stream",
          "name": "stdout",
          "text": [
            "351/351 [==============================] - 2s 5ms/step - loss: 0.0904 - accuracy: 0.9731\n"
          ]
        }
      ]
    }
  ]
}